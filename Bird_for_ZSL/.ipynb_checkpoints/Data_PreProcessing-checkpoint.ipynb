{
 "cells": [
  {
   "cell_type": "code",
   "execution_count": 1,
   "metadata": {},
   "outputs": [],
   "source": [
    "import os\n",
    "import numpy as np"
   ]
  },
  {
   "cell_type": "code",
   "execution_count": 27,
   "metadata": {},
   "outputs": [],
   "source": [
    "def loadDataset(file):\n",
    "    f = open(file,'r')\n",
    "    sourcefile = f.readlines()\n",
    "    dataset=[]\n",
    "    for line in sourcefile:\n",
    "        temp1 = line.strip('\\n')\n",
    "        temp2 = temp1.split('\\t')\n",
    "        dataset.append(temp2)\n",
    "    return dataset"
   ]
  },
  {
   "cell_type": "code",
   "execution_count": 2,
   "metadata": {},
   "outputs": [],
   "source": [
    "root_path = 'CUB_200_2011/attributes/'\n",
    "attribute_file = 'class_attribute_labels_continuous.txt'\n",
    "attribute_label = 'image_attribute_labels.txt'"
   ]
  },
  {
   "cell_type": "code",
   "execution_count": 4,
   "metadata": {},
   "outputs": [],
   "source": []
  },
  {
   "cell_type": "code",
   "execution_count": 36,
   "metadata": {},
   "outputs": [],
   "source": [
    "attributes = np.loadtxt(attribute_path)"
   ]
  },
  {
   "cell_type": "code",
   "execution_count": 28,
   "metadata": {},
   "outputs": [],
   "source": [
    "train_class = 'trainvalclasses.txt'\n",
    "test_class = 'testclasses.txt'\n",
    "train_files = loadDataset(train_class)\n",
    "test_files = loadDataset(test_class)"
   ]
  },
  {
   "cell_type": "markdown",
   "metadata": {},
   "source": [
    "#getting trianing file, testing file, attribute"
   ]
  },
  {
   "cell_type": "code",
   "execution_count": 15,
   "metadata": {},
   "outputs": [],
   "source": [
    "images_root = 'CUB_200_2011/images'\n",
    "train_images = []\n",
    "train_id = []\n",
    "for class_name in train_files:\n",
    "    class_name = class_name[0]\n",
    "    class_id = int(class_name.split('.')[0])\n",
    "    images_path = os.path.join(image_root,class_name)\n",
    "    image_names = os.listdir(images_path)\n",
    "    for image_name in image_names:\n",
    "        image_path = os.path.join(images_path,image_name)\n",
    "        \n",
    "    "
   ]
  },
  {
   "cell_type": "code",
   "execution_count": 37,
   "metadata": {},
   "outputs": [
    {
     "data": {
      "text/plain": [
       "['002.Laysan_Albatross']"
      ]
     },
     "execution_count": 37,
     "metadata": {},
     "output_type": "execute_result"
    }
   ],
   "source": [
    "train_files[0]"
   ]
  }
 ],
 "metadata": {
  "kernelspec": {
   "display_name": "Python 3",
   "language": "python",
   "name": "python3"
  },
  "language_info": {
   "codemirror_mode": {
    "name": "ipython",
    "version": 3
   },
   "file_extension": ".py",
   "mimetype": "text/x-python",
   "name": "python",
   "nbconvert_exporter": "python",
   "pygments_lexer": "ipython3",
   "version": "3.7.3"
  }
 },
 "nbformat": 4,
 "nbformat_minor": 2
}
