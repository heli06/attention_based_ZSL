{
 "cells": [
  {
   "cell_type": "code",
   "execution_count": 1,
   "metadata": {
    "scrolled": false
   },
   "outputs": [
    {
     "name": "stderr",
     "output_type": "stream",
     "text": [
      "D:\\Anaconda3\\envs\\mlcc\\lib\\site-packages\\numpy\\_distributor_init.py:32: UserWarning: loaded more than 1 DLL from .libs:\n",
      "D:\\Anaconda3\\envs\\mlcc\\lib\\site-packages\\numpy\\.libs\\libopenblas.PYQHXLVVQ7VESDPUVUADXEVJOBGHJPAY.gfortran-win_amd64.dll\n",
      "D:\\Anaconda3\\envs\\mlcc\\lib\\site-packages\\numpy\\.libs\\libopenblas.TXA6YQSD3GCQQC22GEQ54J2UDCXDXHWN.gfortran-win_amd64.dll\n",
      "  stacklevel=1)\n"
     ]
    },
    {
     "name": "stdout",
     "output_type": "stream",
     "text": [
      "Namespace(CUDA=True, Loss_batch=True, Loss_cont=False, Loss_dist=False, Loss_hinge=False, all_class_attr='class_attribute_labels_continuous.txt', all_class_id='all_class_id.txt', att_DIM=312, att_hidDIM=1600, batch_size=20, class_num=200, data_path='../Bird_for_ZSL', exp_dir='outputs/baseline', gamma_batch=1.0, gamma_cont=1.0, gamma_dist=1.0, gamma_hinge=1.0, gpu_id=0, img_size=244, lr_A=0.001, lr_I=0.001, lr_decay=100, manualSeed=200, momentum=0.9, n_epochs=100, optim='adam', resume=True, smooth_gamma=10, test_class_attr='test_class_attribute_labels_continuous.txt', test_class_id='test_class_id.txt', weight_decay=0.001, workers=0)\n",
      "dataset_train.len 7051\n",
      "dataset_test_seen 1770\n",
      "dataset_test 2967\n"
     ]
    },
    {
     "ename": "NameError",
     "evalue": "name 'dataset' is not defined",
     "output_type": "error",
     "traceback": [
      "\u001b[1;31m---------------------------------------------------------------------------\u001b[0m",
      "\u001b[1;31mNameError\u001b[0m                                 Traceback (most recent call last)",
      "\u001b[1;32mD:\\ML_CV\\PrivateProject\\attention_based_ZSL\\attention_based_ZSL\\run.py\u001b[0m in \u001b[0;36m<module>\u001b[1;34m\u001b[0m\n\u001b[0;32m    110\u001b[0m \u001b[1;33m\u001b[0m\u001b[0m\n\u001b[0;32m    111\u001b[0m train_loader = torch.utils.data.DataLoader(\n\u001b[1;32m--> 112\u001b[1;33m     \u001b[0mdataset\u001b[0m\u001b[1;33m,\u001b[0m \u001b[0mbatch_size\u001b[0m\u001b[1;33m=\u001b[0m\u001b[0margs\u001b[0m\u001b[1;33m.\u001b[0m\u001b[0mbatch_size\u001b[0m\u001b[1;33m,\u001b[0m\u001b[1;33m\u001b[0m\u001b[1;33m\u001b[0m\u001b[0m\n\u001b[0m\u001b[0;32m    113\u001b[0m     drop_last=True, shuffle=True, num_workers=args.workers,worker_init_fn=worker_init_fn)\n\u001b[0;32m    114\u001b[0m \u001b[1;33m\u001b[0m\u001b[0m\n",
      "\u001b[1;31mNameError\u001b[0m: name 'dataset' is not defined"
     ]
    }
   ],
   "source": [
    "%run run.py"
   ]
  },
  {
   "cell_type": "raw",
   "metadata": {},
   "source": []
  }
 ],
 "metadata": {
  "kernelspec": {
   "display_name": "Python 3",
   "language": "python",
   "name": "python3"
  },
  "language_info": {
   "codemirror_mode": {
    "name": "ipython",
    "version": 3
   },
   "file_extension": ".py",
   "mimetype": "text/x-python",
   "name": "python",
   "nbconvert_exporter": "python",
   "pygments_lexer": "ipython3",
   "version": "3.6.8"
  }
 },
 "nbformat": 4,
 "nbformat_minor": 2
}
