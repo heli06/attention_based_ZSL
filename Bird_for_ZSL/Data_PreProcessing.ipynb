{
 "cells": [
  {
   "cell_type": "code",
   "execution_count": 22,
   "metadata": {},
   "outputs": [],
   "source": [
    "import os\n",
    "import numpy as np\n",
    "import random\n",
    "import scipy.io as sio\n",
    "import math"
   ]
  },
  {
   "cell_type": "code",
   "execution_count": 23,
   "metadata": {},
   "outputs": [],
   "source": [
    "def loadDataset(file):\n",
    "    f = open(file,'r')\n",
    "    sourcefile = f.readlines()\n",
    "    dataset=[]\n",
    "    for line in sourcefile:\n",
    "        temp1 = line.strip('\\n')\n",
    "        temp2 = temp1.split('\\t')\n",
    "        dataset.append(temp2)\n",
    "    return dataset"
   ]
  },
  {
   "cell_type": "code",
   "execution_count": 24,
   "metadata": {},
   "outputs": [],
   "source": [
    "root_path = 'CUB_200_2011/attributes/'\n",
    "attribute_file = 'class_attribute_labels_continuous.txt'\n",
    "attribute_label = 'image_attribute_labels.txt'"
   ]
  },
  {
   "cell_type": "code",
   "execution_count": 25,
   "metadata": {},
   "outputs": [],
   "source": [
    "attribute_path = os.path.join(root_path, attribute_file)\n",
    "attributes = np.loadtxt(attribute_path)"
   ]
  },
  {
   "cell_type": "code",
   "execution_count": 26,
   "metadata": {},
   "outputs": [
    {
     "data": {
      "text/plain": [
       "(200, 312)"
      ]
     },
     "execution_count": 26,
     "metadata": {},
     "output_type": "execute_result"
    }
   ],
   "source": [
    "attributes.shape"
   ]
  },
  {
   "cell_type": "code",
   "execution_count": 27,
   "metadata": {},
   "outputs": [],
   "source": [
    "train_class = 'trainvalclasses.txt'\n",
    "test_class = 'testclasses.txt'\n",
    "train_files = loadDataset(train_class)\n",
    "test_files = loadDataset(test_class)"
   ]
  },
  {
   "cell_type": "markdown",
   "metadata": {},
   "source": [
    "#getting trianing file, testing file, attribute"
   ]
  },
  {
   "cell_type": "code",
   "execution_count": 28,
   "metadata": {},
   "outputs": [],
   "source": [
    "images_root = 'CUB_200_2011/images'\n",
    "train_images = []\n",
    "train_ids = []\n",
    "train_attributes = []\n",
    "\n",
    "test_seen_images = []\n",
    "test_seen_ids = []\n",
    "test_seen_attributes = []\n",
    "\n",
    "for class_name in sorted(train_files):\n",
    "    class_name = class_name[0]\n",
    "    class_id = int(class_name.split('.')[0])\n",
    "    attribute = attributes[class_id-1]\n",
    "    images_path = os.path.join(images_root,class_name)\n",
    "    image_names = os.listdir(images_path)\n",
    "    random.shuffle(image_names)\n",
    "    \n",
    "    num_trainval = len(image_names)\n",
    "    num_train = round(num_trainval * 0.8)\n",
    "    num_test_seen = num_trainval - num_train\n",
    "    for image_name in image_names[:num_train]:\n",
    "        image_path = os.path.join(images_path,image_name)\n",
    "        train_ids.append(class_id)\n",
    "        train_images.append(image_path)\n",
    "        train_attributes.append(attribute)\n",
    "\n",
    "    for image_name in image_names[num_train:]:\n",
    "        image_path = os.path.join(images_path,image_name)\n",
    "        test_seen_ids.append(class_id)\n",
    "        test_seen_images.append(image_path)\n",
    "        test_seen_attributes.append(attribute)"
   ]
  },
  {
   "cell_type": "code",
   "execution_count": 29,
   "metadata": {},
   "outputs": [],
   "source": [
    "test_images = []\n",
    "test_ids = []\n",
    "test_attributes = []\n",
    "\n",
    "images_root = 'CUB_200_2011/images'\n",
    "test_images = []\n",
    "test_ids = []\n",
    "test_attributes = []\n",
    "for class_name in sorted(test_files):\n",
    "    class_name = class_name[0]\n",
    "    class_id = int(class_name.split('.')[0])\n",
    "    attribute = attributes[class_id-1]\n",
    "    images_path = os.path.join(images_root,class_name)\n",
    "    image_names = os.listdir(images_path)\n",
    "    for image_name in image_names:\n",
    "        image_path = os.path.join(images_path,image_name)\n",
    "        test_ids.append(class_id)\n",
    "        test_images.append(image_path)\n",
    "        test_attributes.append(attribute)"
   ]
  },
  {
   "cell_type": "code",
   "execution_count": 30,
   "metadata": {},
   "outputs": [],
   "source": [
    "import pickle"
   ]
  },
  {
   "cell_type": "code",
   "execution_count": 31,
   "metadata": {},
   "outputs": [],
   "source": [
    "with open('filenames_train.pickle','wb') as f:\n",
    "    pickle.dump(train_images,f)\n",
    "with open('class_ids_train.pickle','wb') as f:\n",
    "    pickle.dump(train_ids,f)\n",
    "with open('attributes_train.pickle','wb') as f:\n",
    "    pickle.dump(train_attributes,f)"
   ]
  },
  {
   "cell_type": "code",
   "execution_count": 32,
   "metadata": {},
   "outputs": [],
   "source": [
    "with open('filenames_test_seen.pickle','wb') as f:\n",
    "    pickle.dump(test_seen_images,f)\n",
    "with open('class_ids_test_seen.pickle','wb') as f:\n",
    "    pickle.dump(test_seen_ids,f)\n",
    "with open('attributes_test_seen.pickle','wb') as f:\n",
    "    pickle.dump(test_seen_attributes,f)"
   ]
  },
  {
   "cell_type": "code",
   "execution_count": 33,
   "metadata": {},
   "outputs": [],
   "source": [
    "with open('filenames_test.pickle','wb') as f:\n",
    "    pickle.dump(test_images,f)\n",
    "with open('class_ids_test.pickle','wb') as f:\n",
    "    pickle.dump(test_ids,f)\n",
    "with open('attributes_test.pickle','wb') as f:\n",
    "    pickle.dump(test_attributes,f)"
   ]
  },
  {
   "cell_type": "code",
   "execution_count": 34,
   "metadata": {},
   "outputs": [
    {
     "data": {
      "text/plain": [
       "array([ 0.        ,  2.91970803,  1.45985401,  0.        , 59.8540146 ,\n",
       "       26.27737226,  3.64963504,  5.83941606,  0.        ,  1.63934426,\n",
       "       45.90163934,  3.27868852,  0.        ,  2.45901639, 24.59016393,\n",
       "        0.        ,  0.        ,  0.        ,  0.        ,  0.        ,\n",
       "       31.96721311,  3.27868852,  2.45901639, 28.68852459,  1.8018018 ,\n",
       "       48.64864865,  3.6036036 ,  0.        ,  1.8018018 , 20.72072072,\n",
       "        0.        ,  0.        ,  0.        ,  0.        ,  0.        ,\n",
       "       23.42342342,  2.7027027 ,  5.40540541, 29.72972973,  2.12765957,\n",
       "       29.78723404,  4.25531915,  0.        ,  5.31914894, 39.36170213,\n",
       "        0.        ,  0.        ,  0.        ,  0.        ,  0.        ,\n",
       "       23.40425532,  8.5106383 ,  6.38297872, 18.08510638, 78.5046729 ,\n",
       "        0.        ,  3.73831776, 17.75700935,  1.92307692, 44.23076923,\n",
       "        1.92307692,  0.        ,  2.88461538, 21.15384615,  0.        ,\n",
       "        0.        ,  0.        ,  0.        ,  0.        , 22.11538462,\n",
       "        1.92307692,  5.76923077, 30.76923077,  2.08333333, 23.95833333,\n",
       "       23.95833333, 16.66666667, 23.95833333,  9.375     ,  3.52941176,\n",
       "       31.76470588,  4.70588235,  0.        ,  3.52941176, 22.35294118,\n",
       "        0.        ,  0.        ,  0.        ,  0.        ,  0.        ,\n",
       "       22.35294118, 16.47058824,  7.05882353, 22.35294118,  4.        ,\n",
       "        5.6       ,  0.        ,  6.4       ,  5.6       ,  7.2       ,\n",
       "       12.        , 36.8       , 16.        ,  6.4       ,  6.4       ,\n",
       "        1.78571429, 33.92857143,  2.67857143,  0.        ,  4.46428571,\n",
       "       33.03571429,  0.        ,  0.        ,  0.        ,  0.        ,\n",
       "        0.        , 21.42857143,  2.67857143,  5.35714286, 19.64285714,\n",
       "        1.42857143, 31.42857143,  3.57142857,  0.        ,  2.85714286,\n",
       "       23.57142857,  0.        ,  0.        ,  0.        ,  0.        ,\n",
       "        0.        , 20.        ,  7.85714286,  6.42857143, 28.57142857,\n",
       "        0.        ,  3.78787879,  0.        ,  0.        ,  2.27272727,\n",
       "        1.51515152,  0.        ,  0.        ,  0.        ,  0.        ,\n",
       "       81.06060606,  8.33333333,  4.54545455,  0.75757576, 82.26950355,\n",
       "        7.80141844,  9.92907801,  1.44927536, 14.49275362,  2.17391304,\n",
       "        0.        ,  0.        , 29.71014493,  0.        ,  0.        ,\n",
       "        0.        ,  0.        ,  0.        , 11.5942029 , 31.15942029,\n",
       "        6.52173913, 27.53623188,  2.1978022 , 35.16483516,  2.1978022 ,\n",
       "        0.        ,  5.49450549, 27.47252747,  0.        ,  0.        ,\n",
       "        0.        ,  0.        ,  0.        , 30.76923077, 19.78021978,\n",
       "        6.59340659, 21.97802198,  1.51515152, 40.15151515,  2.27272727,\n",
       "        0.        ,  3.03030303, 26.51515152,  0.        ,  0.        ,\n",
       "        0.        ,  0.        ,  0.        , 18.18181818,  5.3030303 ,\n",
       "        6.06060606, 23.48484848,  2.24719101, 25.84269663,  3.37078652,\n",
       "        0.        ,  5.61797753, 29.21348315,  0.        ,  0.        ,\n",
       "        0.        ,  0.        ,  0.        , 21.34831461,  7.86516854,\n",
       "        6.74157303, 25.84269663, 13.76146789, 20.18348624, 11.00917431,\n",
       "       11.00917431, 52.29357798, 19.23076923, 10.        ,  1.53846154,\n",
       "       66.92307692,  2.30769231,  7.46268657,  0.        ,  2.23880597,\n",
       "       33.58208955,  0.        , 34.32835821,  0.        ,  0.74626866,\n",
       "        0.        ,  8.20895522,  1.49253731,  2.98507463,  3.73134328,\n",
       "        5.2238806 , 58.58585859,  3.03030303, 18.18181818, 20.2020202 ,\n",
       "       45.74468085,  3.19148936, 14.89361702, 36.17021277, 81.70731707,\n",
       "        0.        ,  3.65853659, 14.63414634,  2.01342282, 48.32214765,\n",
       "        1.34228188,  0.        ,  2.01342282, 24.83221477,  0.        ,\n",
       "        0.        ,  0.        ,  0.        ,  0.        , 26.84563758,\n",
       "        2.68456376,  4.02684564, 24.16107383,  4.16666667, 16.66666667,\n",
       "        0.        ,  0.        ,  0.        , 27.08333333,  0.        ,\n",
       "        0.        ,  0.        ,  0.        ,  0.        , 39.58333333,\n",
       "        0.        , 12.5       , 10.41666667,  2.12765957, 20.56737589,\n",
       "        2.12765957,  0.        ,  0.        , 34.75177305,  0.        ,\n",
       "        0.        ,  0.        ,  0.        ,  0.        , 32.62411348,\n",
       "        4.25531915,  6.38297872, 21.9858156 ,  2.12765957, 24.11347518,\n",
       "        3.54609929,  0.        ,  0.        , 32.62411348,  0.        ,\n",
       "        0.        ,  0.        ,  0.        ,  0.        , 21.27659574,\n",
       "       11.34751773,  2.12765957, 31.91489362, 53.57142857,  5.35714286,\n",
       "       21.42857143, 19.64285714])"
      ]
     },
     "execution_count": 34,
     "metadata": {},
     "output_type": "execute_result"
    }
   ],
   "source": [
    "attributes[0]"
   ]
  },
  {
   "cell_type": "code",
   "execution_count": null,
   "metadata": {},
   "outputs": [],
   "source": []
  }
 ],
 "metadata": {
  "kernelspec": {
   "display_name": "Python 3",
   "language": "python",
   "name": "python3"
  },
  "language_info": {
   "codemirror_mode": {
    "name": "ipython",
    "version": 3
   },
   "file_extension": ".py",
   "mimetype": "text/x-python",
   "name": "python",
   "nbconvert_exporter": "python",
   "pygments_lexer": "ipython3",
   "version": "3.6.8"
  }
 },
 "nbformat": 4,
 "nbformat_minor": 2
}
