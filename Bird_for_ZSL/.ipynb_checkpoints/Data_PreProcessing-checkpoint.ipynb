{
 "cells": [
  {
   "cell_type": "code",
   "execution_count": 15,
   "metadata": {},
   "outputs": [],
   "source": [
    "import os\n",
    "import numpy as np\n",
    "import random\n",
    "import scipy.io as sio\n",
    "import math"
   ]
  },
  {
   "cell_type": "code",
   "execution_count": 16,
   "metadata": {},
   "outputs": [],
   "source": [
    "def loadDataset(file):\n",
    "    f = open(file,'r')\n",
    "    sourcefile = f.readlines()\n",
    "    dataset=[]\n",
    "    for line in sourcefile:\n",
    "        temp1 = line.strip('\\n')\n",
    "        temp2 = temp1.split('\\t')\n",
    "        dataset.append(temp2)\n",
    "    return dataset"
   ]
  },
  {
   "cell_type": "code",
   "execution_count": 17,
   "metadata": {},
   "outputs": [],
   "source": [
    "root_path = 'CUB_200_2011/attributes/'\n",
    "attribute_file = 'class_attribute_labels_continuous.txt'\n",
    "attribute_label = 'image_attribute_labels.txt'"
   ]
  },
  {
   "cell_type": "code",
   "execution_count": 18,
   "metadata": {},
   "outputs": [],
   "source": [
    "attribute_path = os.path.join(root_path, attribute_file)\n",
    "attributes = np.loadtxt(attribute_path)"
   ]
  },
  {
   "cell_type": "code",
   "execution_count": 19,
   "metadata": {},
   "outputs": [
    {
     "data": {
      "text/plain": [
       "(200, 312)"
      ]
     },
     "execution_count": 19,
     "metadata": {},
     "output_type": "execute_result"
    }
   ],
   "source": [
    "attributes.shape"
   ]
  },
  {
   "cell_type": "code",
   "execution_count": 20,
   "metadata": {},
   "outputs": [],
   "source": [
    "train_class = 'trainvalclasses.txt'\n",
    "test_class = 'testclasses.txt'\n",
    "train_files = loadDataset(train_class)\n",
    "test_files = loadDataset(test_class)"
   ]
  },
  {
   "cell_type": "markdown",
   "metadata": {},
   "source": [
    "#getting trianing file, testing file, attribute"
   ]
  },
  {
   "cell_type": "code",
   "execution_count": 21,
   "metadata": {},
   "outputs": [
    {
     "name": "stdout",
     "output_type": "stream",
     "text": [
      "CUB_200_2011/images\\001.Black_footed_Albatross\n",
      "CUB_200_2011/images\\002.Laysan_Albatross\n",
      "CUB_200_2011/images\\003.Sooty_Albatross\n",
      "CUB_200_2011/images\\005.Crested_Auklet\n",
      "CUB_200_2011/images\\006.Least_Auklet\n",
      "CUB_200_2011/images\\007.Parakeet_Auklet\n",
      "CUB_200_2011/images\\008.Rhinoceros_Auklet\n",
      "CUB_200_2011/images\\009.Brewer_Blackbird\n",
      "CUB_200_2011/images\\010.Red_winged_Blackbird\n",
      "CUB_200_2011/images\\011.Rusty_Blackbird\n",
      "CUB_200_2011/images\\013.Bobolink\n",
      "CUB_200_2011/images\\014.Indigo_Bunting\n",
      "CUB_200_2011/images\\015.Lazuli_Bunting\n",
      "CUB_200_2011/images\\016.Painted_Bunting\n",
      "CUB_200_2011/images\\017.Cardinal\n",
      "CUB_200_2011/images\\018.Spotted_Catbird\n",
      "CUB_200_2011/images\\019.Gray_Catbird\n",
      "CUB_200_2011/images\\020.Yellow_breasted_Chat\n",
      "CUB_200_2011/images\\021.Eastern_Towhee\n",
      "CUB_200_2011/images\\022.Chuck_will_Widow\n",
      "CUB_200_2011/images\\024.Red_faced_Cormorant\n",
      "CUB_200_2011/images\\025.Pelagic_Cormorant\n",
      "CUB_200_2011/images\\027.Shiny_Cowbird\n",
      "CUB_200_2011/images\\029.American_Crow\n",
      "CUB_200_2011/images\\030.Fish_Crow\n",
      "CUB_200_2011/images\\032.Mangrove_Cuckoo\n",
      "CUB_200_2011/images\\034.Gray_crowned_Rosy_Finch\n",
      "CUB_200_2011/images\\035.Purple_Finch\n",
      "CUB_200_2011/images\\036.Northern_Flicker\n",
      "CUB_200_2011/images\\037.Acadian_Flycatcher\n",
      "CUB_200_2011/images\\038.Great_Crested_Flycatcher\n",
      "CUB_200_2011/images\\039.Least_Flycatcher\n",
      "CUB_200_2011/images\\040.Olive_sided_Flycatcher\n",
      "CUB_200_2011/images\\041.Scissor_tailed_Flycatcher\n",
      "CUB_200_2011/images\\042.Vermilion_Flycatcher\n",
      "CUB_200_2011/images\\044.Frigatebird\n",
      "CUB_200_2011/images\\046.Gadwall\n",
      "CUB_200_2011/images\\047.American_Goldfinch\n",
      "CUB_200_2011/images\\048.European_Goldfinch\n",
      "CUB_200_2011/images\\050.Eared_Grebe\n",
      "CUB_200_2011/images\\051.Horned_Grebe\n",
      "CUB_200_2011/images\\053.Western_Grebe\n",
      "CUB_200_2011/images\\054.Blue_Grosbeak\n",
      "CUB_200_2011/images\\056.Pine_Grosbeak\n",
      "CUB_200_2011/images\\057.Rose_breasted_Grosbeak\n",
      "CUB_200_2011/images\\058.Pigeon_Guillemot\n",
      "CUB_200_2011/images\\059.California_Gull\n",
      "CUB_200_2011/images\\060.Glaucous_winged_Gull\n",
      "CUB_200_2011/images\\061.Heermann_Gull\n",
      "CUB_200_2011/images\\062.Herring_Gull\n",
      "CUB_200_2011/images\\063.Ivory_Gull\n",
      "CUB_200_2011/images\\064.Ring_billed_Gull\n",
      "CUB_200_2011/images\\065.Slaty_backed_Gull\n",
      "CUB_200_2011/images\\066.Western_Gull\n",
      "CUB_200_2011/images\\067.Anna_Hummingbird\n",
      "CUB_200_2011/images\\068.Ruby_throated_Hummingbird\n",
      "CUB_200_2011/images\\069.Rufous_Hummingbird\n",
      "CUB_200_2011/images\\071.Long_tailed_Jaeger\n",
      "CUB_200_2011/images\\073.Blue_Jay\n",
      "CUB_200_2011/images\\074.Florida_Jay\n",
      "CUB_200_2011/images\\075.Green_Jay\n",
      "CUB_200_2011/images\\076.Dark_eyed_Junco\n",
      "CUB_200_2011/images\\078.Gray_Kingbird\n",
      "CUB_200_2011/images\\079.Belted_Kingfisher\n",
      "CUB_200_2011/images\\080.Green_Kingfisher\n",
      "CUB_200_2011/images\\081.Pied_Kingfisher\n",
      "CUB_200_2011/images\\082.Ringed_Kingfisher\n",
      "CUB_200_2011/images\\083.White_breasted_Kingfisher\n",
      "CUB_200_2011/images\\085.Horned_Lark\n",
      "CUB_200_2011/images\\086.Pacific_Loon\n",
      "CUB_200_2011/images\\088.Western_Meadowlark\n",
      "CUB_200_2011/images\\089.Hooded_Merganser\n",
      "CUB_200_2011/images\\090.Red_breasted_Merganser\n",
      "CUB_200_2011/images\\092.Nighthawk\n",
      "CUB_200_2011/images\\093.Clark_Nutcracker\n",
      "CUB_200_2011/images\\095.Baltimore_Oriole\n",
      "CUB_200_2011/images\\096.Hooded_Oriole\n",
      "CUB_200_2011/images\\099.Ovenbird\n",
      "CUB_200_2011/images\\100.Brown_Pelican\n",
      "CUB_200_2011/images\\101.White_Pelican\n",
      "CUB_200_2011/images\\102.Western_Wood_Pewee\n",
      "CUB_200_2011/images\\105.Whip_poor_Will\n",
      "CUB_200_2011/images\\106.Horned_Puffin\n",
      "CUB_200_2011/images\\107.Common_Raven\n",
      "CUB_200_2011/images\\108.White_necked_Raven\n",
      "CUB_200_2011/images\\109.American_Redstart\n",
      "CUB_200_2011/images\\110.Geococcyx\n",
      "CUB_200_2011/images\\112.Great_Grey_Shrike\n",
      "CUB_200_2011/images\\114.Black_throated_Sparrow\n",
      "CUB_200_2011/images\\115.Brewer_Sparrow\n",
      "CUB_200_2011/images\\116.Chipping_Sparrow\n",
      "CUB_200_2011/images\\117.Clay_colored_Sparrow\n",
      "CUB_200_2011/images\\118.House_Sparrow\n",
      "CUB_200_2011/images\\120.Fox_Sparrow\n",
      "CUB_200_2011/images\\121.Grasshopper_Sparrow\n",
      "CUB_200_2011/images\\122.Harris_Sparrow\n",
      "CUB_200_2011/images\\125.Lincoln_Sparrow\n",
      "CUB_200_2011/images\\126.Nelson_Sharp_tailed_Sparrow\n",
      "CUB_200_2011/images\\128.Seaside_Sparrow\n",
      "CUB_200_2011/images\\129.Song_Sparrow\n",
      "CUB_200_2011/images\\131.Vesper_Sparrow\n",
      "CUB_200_2011/images\\133.White_throated_Sparrow\n",
      "CUB_200_2011/images\\134.Cape_Glossy_Starling\n",
      "CUB_200_2011/images\\135.Bank_Swallow\n",
      "CUB_200_2011/images\\137.Cliff_Swallow\n",
      "CUB_200_2011/images\\140.Summer_Tanager\n",
      "CUB_200_2011/images\\141.Artic_Tern\n",
      "CUB_200_2011/images\\142.Black_Tern\n",
      "CUB_200_2011/images\\144.Common_Tern\n",
      "CUB_200_2011/images\\145.Elegant_Tern\n",
      "CUB_200_2011/images\\146.Forsters_Tern\n",
      "CUB_200_2011/images\\147.Least_Tern\n",
      "CUB_200_2011/images\\149.Brown_Thrasher\n",
      "CUB_200_2011/images\\150.Sage_Thrasher\n",
      "CUB_200_2011/images\\151.Black_capped_Vireo\n",
      "CUB_200_2011/images\\152.Blue_headed_Vireo\n",
      "CUB_200_2011/images\\153.Philadelphia_Vireo\n",
      "CUB_200_2011/images\\154.Red_eyed_Vireo\n",
      "CUB_200_2011/images\\155.Warbling_Vireo\n",
      "CUB_200_2011/images\\158.Bay_breasted_Warbler\n",
      "CUB_200_2011/images\\159.Black_and_white_Warbler\n",
      "CUB_200_2011/images\\160.Black_throated_Blue_Warbler\n",
      "CUB_200_2011/images\\162.Canada_Warbler\n",
      "CUB_200_2011/images\\166.Golden_winged_Warbler\n",
      "CUB_200_2011/images\\167.Hooded_Warbler\n",
      "CUB_200_2011/images\\170.Mourning_Warbler\n",
      "CUB_200_2011/images\\171.Myrtle_Warbler\n",
      "CUB_200_2011/images\\172.Nashville_Warbler\n",
      "CUB_200_2011/images\\174.Palm_Warbler\n",
      "CUB_200_2011/images\\175.Pine_Warbler\n",
      "CUB_200_2011/images\\176.Prairie_Warbler\n",
      "CUB_200_2011/images\\177.Prothonotary_Warbler\n",
      "CUB_200_2011/images\\178.Swainson_Warbler\n",
      "CUB_200_2011/images\\179.Tennessee_Warbler\n",
      "CUB_200_2011/images\\181.Worm_eating_Warbler\n",
      "CUB_200_2011/images\\182.Yellow_Warbler\n",
      "CUB_200_2011/images\\183.Northern_Waterthrush\n",
      "CUB_200_2011/images\\184.Louisiana_Waterthrush\n",
      "CUB_200_2011/images\\185.Bohemian_Waxwing\n",
      "CUB_200_2011/images\\186.Cedar_Waxwing\n",
      "CUB_200_2011/images\\187.American_Three_toed_Woodpecker\n",
      "CUB_200_2011/images\\189.Red_bellied_Woodpecker\n",
      "CUB_200_2011/images\\192.Downy_Woodpecker\n",
      "CUB_200_2011/images\\193.Bewick_Wren\n",
      "CUB_200_2011/images\\194.Cactus_Wren\n",
      "CUB_200_2011/images\\195.Carolina_Wren\n",
      "CUB_200_2011/images\\196.House_Wren\n",
      "CUB_200_2011/images\\197.Marsh_Wren\n",
      "CUB_200_2011/images\\198.Rock_Wren\n",
      "CUB_200_2011/images\\199.Winter_Wren\n"
     ]
    }
   ],
   "source": [
    "images_root = 'CUB_200_2011/images'\n",
    "train_images = []\n",
    "train_ids = []\n",
    "train_attributes = []\n",
    "\n",
    "test_seen_images = []\n",
    "test_seen_ids = []\n",
    "test_seen_attributes = []\n",
    "\n",
    "for class_name in sorted(train_files):\n",
    "    class_name = class_name[0]\n",
    "    class_id = int(class_name.split('.')[0])\n",
    "    attribute = attributes[class_id-1]\n",
    "    images_path = os.path.join(images_root,class_name)\n",
    "    image_names = os.listdir(images_path)\n",
    "    random.shuffle(image_names)\n",
    "    \n",
    "    num_trainval = len(image_names)\n",
    "    num_train = round(num_trainval * 0.8)\n",
    "    num_test_seen = num_trainval - num_train\n",
    "    for image_name in image_names[:num_train]:\n",
    "        image_path = os.path.join(images_path,image_name)\n",
    "        train_ids.append(class_id)\n",
    "        train_images.append(image_path)\n",
    "        train_attributes.append(attribute)\n",
    "\n",
    "    for image_name in image_names[num_train:]:\n",
    "        image_path = os.path.join(images_path,image_name)\n",
    "        test_seen_ids.append(class_id)\n",
    "        test_seen_images.append(image_path)\n",
    "        test_seen_attributes.append(attribute)"
   ]
  },
  {
   "cell_type": "code",
   "execution_count": 14,
   "metadata": {},
   "outputs": [
    {
     "ename": "NameError",
     "evalue": "name 'iamge_path' is not defined",
     "output_type": "error",
     "traceback": [
      "\u001b[1;31m---------------------------------------------------------------------------\u001b[0m",
      "\u001b[1;31mNameError\u001b[0m                                 Traceback (most recent call last)",
      "\u001b[1;32m<ipython-input-14-21c24a07c678>\u001b[0m in \u001b[0;36m<module>\u001b[1;34m\u001b[0m\n\u001b[0;32m     15\u001b[0m     \u001b[1;32mfor\u001b[0m \u001b[0mimage_name\u001b[0m \u001b[1;32min\u001b[0m \u001b[0mimage_names\u001b[0m\u001b[1;33m:\u001b[0m\u001b[1;33m\u001b[0m\u001b[1;33m\u001b[0m\u001b[0m\n\u001b[0;32m     16\u001b[0m         \u001b[0mimage_path\u001b[0m \u001b[1;33m=\u001b[0m \u001b[0mos\u001b[0m\u001b[1;33m.\u001b[0m\u001b[0mpath\u001b[0m\u001b[1;33m.\u001b[0m\u001b[0mjoin\u001b[0m\u001b[1;33m(\u001b[0m\u001b[0mimages_path\u001b[0m\u001b[1;33m,\u001b[0m\u001b[0mimage_name\u001b[0m\u001b[1;33m)\u001b[0m\u001b[1;33m\u001b[0m\u001b[1;33m\u001b[0m\u001b[0m\n\u001b[1;32m---> 17\u001b[1;33m         \u001b[0mprint\u001b[0m\u001b[1;33m(\u001b[0m\u001b[0miamge_path\u001b[0m\u001b[1;33m)\u001b[0m\u001b[1;33m\u001b[0m\u001b[1;33m\u001b[0m\u001b[0m\n\u001b[0m\u001b[0;32m     18\u001b[0m         \u001b[0mtest_ids\u001b[0m\u001b[1;33m.\u001b[0m\u001b[0mappend\u001b[0m\u001b[1;33m(\u001b[0m\u001b[0mclass_id\u001b[0m\u001b[1;33m)\u001b[0m\u001b[1;33m\u001b[0m\u001b[1;33m\u001b[0m\u001b[0m\n\u001b[0;32m     19\u001b[0m         \u001b[0mtest_images\u001b[0m\u001b[1;33m.\u001b[0m\u001b[0mappend\u001b[0m\u001b[1;33m(\u001b[0m\u001b[0mimage_path\u001b[0m\u001b[1;33m)\u001b[0m\u001b[1;33m\u001b[0m\u001b[1;33m\u001b[0m\u001b[0m\n",
      "\u001b[1;31mNameError\u001b[0m: name 'iamge_path' is not defined"
     ]
    }
   ],
   "source": [
    "test_images = []\n",
    "test_ids = []\n",
    "test_attributes = []\n",
    "\n",
    "images_root = 'CUB_200_2011/images'\n",
    "test_images = []\n",
    "test_ids = []\n",
    "test_attributes = []\n",
    "for class_name in sorted(test_files):\n",
    "    class_name = class_name[0]\n",
    "    class_id = int(class_name.split('.')[0])\n",
    "    attribute = attributes[class_id-1]\n",
    "    images_path = os.path.join(images_root,class_name)\n",
    "    image_names = os.listdir(images_path)\n",
    "    for image_name in image_names:\n",
    "        image_path = os.path.join(images_path,image_name)\n",
    "        test_ids.append(class_id)\n",
    "        test_images.append(image_path)\n",
    "        test_attributes.append(attribute)"
   ]
  },
  {
   "cell_type": "code",
   "execution_count": 9,
   "metadata": {},
   "outputs": [],
   "source": [
    "import pickle"
   ]
  },
  {
   "cell_type": "code",
   "execution_count": 10,
   "metadata": {},
   "outputs": [],
   "source": [
    "with open('filenames_train.pickle','wb') as f:\n",
    "    pickle.dump(train_images,f)\n",
    "with open('class_ids_train.pickle','wb') as f:\n",
    "    pickle.dump(train_ids,f)\n",
    "with open('attributes_train.pickle','wb') as f:\n",
    "    pickle.dump(train_attributes,f)"
   ]
  },
  {
   "cell_type": "code",
   "execution_count": 11,
   "metadata": {},
   "outputs": [],
   "source": [
    "with open('filenames_test_seen.pickle','wb') as f:\n",
    "    pickle.dump(test_seen_images,f)\n",
    "with open('class_ids_test_seen.pickle','wb') as f:\n",
    "    pickle.dump(test_seen_ids,f)\n",
    "with open('attributes_test_seen.pickle','wb') as f:\n",
    "    pickle.dump(test_seen_attributes,f)"
   ]
  },
  {
   "cell_type": "code",
   "execution_count": 12,
   "metadata": {},
   "outputs": [],
   "source": [
    "with open('filenames_test.pickle','wb') as f:\n",
    "    pickle.dump(test_images,f)\n",
    "with open('class_ids_test.pickle','wb') as f:\n",
    "    pickle.dump(test_ids,f)\n",
    "with open('attributes_test.pickle','wb') as f:\n",
    "    pickle.dump(test_attributes,f)"
   ]
  },
  {
   "cell_type": "code",
   "execution_count": 13,
   "metadata": {},
   "outputs": [
    {
     "data": {
      "text/plain": [
       "array([ 0.        ,  2.91970803,  1.45985401,  0.        , 59.8540146 ,\n",
       "       26.27737226,  3.64963504,  5.83941606,  0.        ,  1.63934426,\n",
       "       45.90163934,  3.27868852,  0.        ,  2.45901639, 24.59016393,\n",
       "        0.        ,  0.        ,  0.        ,  0.        ,  0.        ,\n",
       "       31.96721311,  3.27868852,  2.45901639, 28.68852459,  1.8018018 ,\n",
       "       48.64864865,  3.6036036 ,  0.        ,  1.8018018 , 20.72072072,\n",
       "        0.        ,  0.        ,  0.        ,  0.        ,  0.        ,\n",
       "       23.42342342,  2.7027027 ,  5.40540541, 29.72972973,  2.12765957,\n",
       "       29.78723404,  4.25531915,  0.        ,  5.31914894, 39.36170213,\n",
       "        0.        ,  0.        ,  0.        ,  0.        ,  0.        ,\n",
       "       23.40425532,  8.5106383 ,  6.38297872, 18.08510638, 78.5046729 ,\n",
       "        0.        ,  3.73831776, 17.75700935,  1.92307692, 44.23076923,\n",
       "        1.92307692,  0.        ,  2.88461538, 21.15384615,  0.        ,\n",
       "        0.        ,  0.        ,  0.        ,  0.        , 22.11538462,\n",
       "        1.92307692,  5.76923077, 30.76923077,  2.08333333, 23.95833333,\n",
       "       23.95833333, 16.66666667, 23.95833333,  9.375     ,  3.52941176,\n",
       "       31.76470588,  4.70588235,  0.        ,  3.52941176, 22.35294118,\n",
       "        0.        ,  0.        ,  0.        ,  0.        ,  0.        ,\n",
       "       22.35294118, 16.47058824,  7.05882353, 22.35294118,  4.        ,\n",
       "        5.6       ,  0.        ,  6.4       ,  5.6       ,  7.2       ,\n",
       "       12.        , 36.8       , 16.        ,  6.4       ,  6.4       ,\n",
       "        1.78571429, 33.92857143,  2.67857143,  0.        ,  4.46428571,\n",
       "       33.03571429,  0.        ,  0.        ,  0.        ,  0.        ,\n",
       "        0.        , 21.42857143,  2.67857143,  5.35714286, 19.64285714,\n",
       "        1.42857143, 31.42857143,  3.57142857,  0.        ,  2.85714286,\n",
       "       23.57142857,  0.        ,  0.        ,  0.        ,  0.        ,\n",
       "        0.        , 20.        ,  7.85714286,  6.42857143, 28.57142857,\n",
       "        0.        ,  3.78787879,  0.        ,  0.        ,  2.27272727,\n",
       "        1.51515152,  0.        ,  0.        ,  0.        ,  0.        ,\n",
       "       81.06060606,  8.33333333,  4.54545455,  0.75757576, 82.26950355,\n",
       "        7.80141844,  9.92907801,  1.44927536, 14.49275362,  2.17391304,\n",
       "        0.        ,  0.        , 29.71014493,  0.        ,  0.        ,\n",
       "        0.        ,  0.        ,  0.        , 11.5942029 , 31.15942029,\n",
       "        6.52173913, 27.53623188,  2.1978022 , 35.16483516,  2.1978022 ,\n",
       "        0.        ,  5.49450549, 27.47252747,  0.        ,  0.        ,\n",
       "        0.        ,  0.        ,  0.        , 30.76923077, 19.78021978,\n",
       "        6.59340659, 21.97802198,  1.51515152, 40.15151515,  2.27272727,\n",
       "        0.        ,  3.03030303, 26.51515152,  0.        ,  0.        ,\n",
       "        0.        ,  0.        ,  0.        , 18.18181818,  5.3030303 ,\n",
       "        6.06060606, 23.48484848,  2.24719101, 25.84269663,  3.37078652,\n",
       "        0.        ,  5.61797753, 29.21348315,  0.        ,  0.        ,\n",
       "        0.        ,  0.        ,  0.        , 21.34831461,  7.86516854,\n",
       "        6.74157303, 25.84269663, 13.76146789, 20.18348624, 11.00917431,\n",
       "       11.00917431, 52.29357798, 19.23076923, 10.        ,  1.53846154,\n",
       "       66.92307692,  2.30769231,  7.46268657,  0.        ,  2.23880597,\n",
       "       33.58208955,  0.        , 34.32835821,  0.        ,  0.74626866,\n",
       "        0.        ,  8.20895522,  1.49253731,  2.98507463,  3.73134328,\n",
       "        5.2238806 , 58.58585859,  3.03030303, 18.18181818, 20.2020202 ,\n",
       "       45.74468085,  3.19148936, 14.89361702, 36.17021277, 81.70731707,\n",
       "        0.        ,  3.65853659, 14.63414634,  2.01342282, 48.32214765,\n",
       "        1.34228188,  0.        ,  2.01342282, 24.83221477,  0.        ,\n",
       "        0.        ,  0.        ,  0.        ,  0.        , 26.84563758,\n",
       "        2.68456376,  4.02684564, 24.16107383,  4.16666667, 16.66666667,\n",
       "        0.        ,  0.        ,  0.        , 27.08333333,  0.        ,\n",
       "        0.        ,  0.        ,  0.        ,  0.        , 39.58333333,\n",
       "        0.        , 12.5       , 10.41666667,  2.12765957, 20.56737589,\n",
       "        2.12765957,  0.        ,  0.        , 34.75177305,  0.        ,\n",
       "        0.        ,  0.        ,  0.        ,  0.        , 32.62411348,\n",
       "        4.25531915,  6.38297872, 21.9858156 ,  2.12765957, 24.11347518,\n",
       "        3.54609929,  0.        ,  0.        , 32.62411348,  0.        ,\n",
       "        0.        ,  0.        ,  0.        ,  0.        , 21.27659574,\n",
       "       11.34751773,  2.12765957, 31.91489362, 53.57142857,  5.35714286,\n",
       "       21.42857143, 19.64285714])"
      ]
     },
     "execution_count": 13,
     "metadata": {},
     "output_type": "execute_result"
    }
   ],
   "source": [
    "attributes[0]"
   ]
  },
  {
   "cell_type": "code",
   "execution_count": null,
   "metadata": {},
   "outputs": [],
   "source": []
  }
 ],
 "metadata": {
  "kernelspec": {
   "display_name": "Python 3",
   "language": "python",
   "name": "python3"
  },
  "language_info": {
   "codemirror_mode": {
    "name": "ipython",
    "version": 3
   },
   "file_extension": ".py",
   "mimetype": "text/x-python",
   "name": "python",
   "nbconvert_exporter": "python",
   "pygments_lexer": "ipython3",
   "version": "3.6.8"
  }
 },
 "nbformat": 4,
 "nbformat_minor": 2
}
